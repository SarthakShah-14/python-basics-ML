{
 "cells": [
  {
   "cell_type": "code",
   "execution_count": 3,
   "id": "48456cf6-2226-483f-aee9-af364ba8e1ce",
   "metadata": {},
   "outputs": [],
   "source": [
    "import numpy as np"
   ]
  },
  {
   "cell_type": "markdown",
   "id": "98f804db-c03d-4f7b-ab7b-c81b6d828df8",
   "metadata": {},
   "source": [
    "n1=np.array([1,2,3,4,5,6])\n",
    "n1"
   ]
  },
  {
   "cell_type": "code",
   "execution_count": 20,
   "id": "757bff97-9913-44d2-8a5e-e88149cfe089",
   "metadata": {},
   "outputs": [
    {
     "data": {
      "text/plain": [
       "array([[1, 2, 3],\n",
       "       [4, 5, 6]])"
      ]
     },
     "execution_count": 20,
     "metadata": {},
     "output_type": "execute_result"
    }
   ],
   "source": [
    "n1=np.array([1,2,3,4,5,6])\n",
    "n1.reshape(2,3)"
   ]
  },
  {
   "cell_type": "code",
   "execution_count": 32,
   "id": "32c4cf40-d7de-4d7b-b3f6-466073efe62e",
   "metadata": {},
   "outputs": [
    {
     "data": {
      "text/plain": [
       "(6,)"
      ]
     },
     "execution_count": 32,
     "metadata": {},
     "output_type": "execute_result"
    }
   ],
   "source": [
    "n1.shape"
   ]
  },
  {
   "cell_type": "code",
   "execution_count": 34,
   "id": "7ce59e6b-9d24-4baa-bd01-e5bb3cd145f8",
   "metadata": {},
   "outputs": [
    {
     "data": {
      "text/plain": [
       "1"
      ]
     },
     "execution_count": 34,
     "metadata": {},
     "output_type": "execute_result"
    }
   ],
   "source": [
    "n1.ndim"
   ]
  },
  {
   "cell_type": "code",
   "execution_count": 46,
   "id": "192f0e7a-44af-4501-9013-59d952e0dba0",
   "metadata": {},
   "outputs": [
    {
     "data": {
      "text/plain": [
       "array([[[0., 0.],\n",
       "        [0., 0.]],\n",
       "\n",
       "       [[0., 0.],\n",
       "        [0., 0.]]])"
      ]
     },
     "execution_count": 46,
     "metadata": {},
     "output_type": "execute_result"
    }
   ],
   "source": [
    "n2=np.zeros((2,2,2))\n",
    "n2"
   ]
  },
  {
   "cell_type": "code",
   "execution_count": 44,
   "id": "fbe5a12d-5a68-4b74-8132-ad147f3794bc",
   "metadata": {},
   "outputs": [
    {
     "data": {
      "text/plain": [
       "array([[[1., 1.],\n",
       "        [1., 1.]],\n",
       "\n",
       "       [[1., 1.],\n",
       "        [1., 1.]]])"
      ]
     },
     "execution_count": 44,
     "metadata": {},
     "output_type": "execute_result"
    }
   ],
   "source": [
    "n2=np.ones((2,2,2))\n",
    "n2"
   ]
  },
  {
   "cell_type": "code",
   "execution_count": 48,
   "id": "1aa12569-1cfa-43cd-8b96-30d995eb7c69",
   "metadata": {},
   "outputs": [
    {
     "data": {
      "text/plain": [
       "array([[5, 5],\n",
       "       [5, 5]])"
      ]
     },
     "execution_count": 48,
     "metadata": {},
     "output_type": "execute_result"
    }
   ],
   "source": [
    "n2=np.full((2,2,),5)\n",
    "n2"
   ]
  },
  {
   "cell_type": "code",
   "execution_count": 62,
   "id": "d6f7b8bf-dfc7-4721-b74d-1fe7187ed8b6",
   "metadata": {},
   "outputs": [
    {
     "data": {
      "text/plain": [
       "array([[11, 12, 13],\n",
       "       [14, 15, 16],\n",
       "       [17, 18, 19]])"
      ]
     },
     "execution_count": 62,
     "metadata": {},
     "output_type": "execute_result"
    }
   ],
   "source": [
    "n3=np.arange(11,20).reshape(3,3)\n",
    "n3"
   ]
  },
  {
   "cell_type": "code",
   "execution_count": 64,
   "id": "96b1c378-76b9-44bb-b96d-54661dcacd57",
   "metadata": {},
   "outputs": [
    {
     "data": {
      "text/plain": [
       "array([11, 16])"
      ]
     },
     "execution_count": 64,
     "metadata": {},
     "output_type": "execute_result"
    }
   ],
   "source": [
    "n3=np.arange(11,20,5)\n",
    "n3"
   ]
  },
  {
   "cell_type": "code",
   "execution_count": 70,
   "id": "19920605-63b3-43cc-98de-5d4c35adde0a",
   "metadata": {},
   "outputs": [
    {
     "data": {
      "text/plain": [
       "array([18, 10, 10, 11, 13])"
      ]
     },
     "execution_count": 70,
     "metadata": {},
     "output_type": "execute_result"
    }
   ],
   "source": [
    "n3=np.random.randint(10,20,5)\n",
    "n3"
   ]
  },
  {
   "cell_type": "code",
   "execution_count": 76,
   "id": "6d5b57b4-683c-44fb-beb6-9a801a4585d3",
   "metadata": {},
   "outputs": [
    {
     "data": {
      "text/plain": [
       "array([[3, 6, 8, 9, 1],\n",
       "       [8, 8, 7, 2, 6],\n",
       "       [1, 5, 4, 1, 2],\n",
       "       [3, 5, 8, 4, 9],\n",
       "       [5, 7, 6, 7, 8]])"
      ]
     },
     "execution_count": 76,
     "metadata": {},
     "output_type": "execute_result"
    }
   ],
   "source": [
    "n3=np.random.randint(1,10,(5,5))\n",
    "n3"
   ]
  },
  {
   "cell_type": "code",
   "execution_count": 82,
   "id": "40203c52-dcd6-49e4-bcd6-8bba609ffccc",
   "metadata": {},
   "outputs": [
    {
     "data": {
      "text/plain": [
       "array([[5, 5],\n",
       "       [5, 5],\n",
       "       [5, 5],\n",
       "       [5, 5]])"
      ]
     },
     "execution_count": 82,
     "metadata": {},
     "output_type": "execute_result"
    }
   ],
   "source": [
    "np.concatenate([n2,n2])"
   ]
  },
  {
   "cell_type": "code",
   "execution_count": 86,
   "id": "b46d7d49-65fa-4c5e-9f96-c1ccd95f61bf",
   "metadata": {},
   "outputs": [
    {
     "data": {
      "text/plain": [
       "array([[5, 5, 5, 5],\n",
       "       [5, 5, 5, 5]])"
      ]
     },
     "execution_count": 86,
     "metadata": {},
     "output_type": "execute_result"
    }
   ],
   "source": [
    "np.hstack([n2,n2])"
   ]
  },
  {
   "cell_type": "code",
   "execution_count": 88,
   "id": "788c236c-d919-4f42-8000-314008bfd7df",
   "metadata": {},
   "outputs": [
    {
     "data": {
      "text/plain": [
       "array([[5, 5],\n",
       "       [5, 5],\n",
       "       [5, 5],\n",
       "       [5, 5]])"
      ]
     },
     "execution_count": 88,
     "metadata": {},
     "output_type": "execute_result"
    }
   ],
   "source": [
    "np.vstack([n2,n2])"
   ]
  },
  {
   "cell_type": "code",
   "execution_count": 7,
   "id": "bc5837cf-2bd7-4397-8c58-0ad45a6bf777",
   "metadata": {},
   "outputs": [
    {
     "ename": "NameError",
     "evalue": "name 'n1' is not defined",
     "output_type": "error",
     "traceback": [
      "\u001b[1;31m---------------------------------------------------------------------------\u001b[0m",
      "\u001b[1;31mNameError\u001b[0m                                 Traceback (most recent call last)",
      "Cell \u001b[1;32mIn[7], line 1\u001b[0m\n\u001b[1;32m----> 1\u001b[0m n1\n",
      "\u001b[1;31mNameError\u001b[0m: name 'n1' is not defined"
     ]
    }
   ],
   "source": [
    "n1"
   ]
  },
  {
   "cell_type": "code",
   "execution_count": 96,
   "id": "eab6e5cc-861f-4a92-aad7-f7476b555c80",
   "metadata": {},
   "outputs": [
    {
     "data": {
      "text/plain": [
       "array([[5, 5],\n",
       "       [5, 5]])"
      ]
     },
     "execution_count": 96,
     "metadata": {},
     "output_type": "execute_result"
    }
   ],
   "source": [
    "n2"
   ]
  },
  {
   "cell_type": "code",
   "execution_count": 98,
   "id": "1fcb6d21-8751-4ee3-9be1-6b7706c44727",
   "metadata": {},
   "outputs": [
    {
     "data": {
      "text/plain": [
       "array([[3, 6, 8, 9, 1],\n",
       "       [8, 8, 7, 2, 6],\n",
       "       [1, 5, 4, 1, 2],\n",
       "       [3, 5, 8, 4, 9],\n",
       "       [5, 7, 6, 7, 8]])"
      ]
     },
     "execution_count": 98,
     "metadata": {},
     "output_type": "execute_result"
    }
   ],
   "source": [
    "n3"
   ]
  },
  {
   "cell_type": "code",
   "execution_count": 15,
   "id": "4e0712eb-5ec8-4e58-a793-067650a58687",
   "metadata": {},
   "outputs": [
    {
     "data": {
      "text/plain": [
       "4"
      ]
     },
     "execution_count": 15,
     "metadata": {},
     "output_type": "execute_result"
    }
   ],
   "source": [
    "import numpy as np\n",
    "n1=np.array([1,2,3,4,5,6])\n",
    "n1[3]"
   ]
  },
  {
   "cell_type": "code",
   "execution_count": 17,
   "id": "264138e3-32a8-47a5-bebc-01091f66bf6d",
   "metadata": {},
   "outputs": [
    {
     "data": {
      "text/plain": [
       "array([[11, 12, 13],\n",
       "       [14, 15, 16],\n",
       "       [17, 18, 19]])"
      ]
     },
     "execution_count": 17,
     "metadata": {},
     "output_type": "execute_result"
    }
   ],
   "source": [
    "n3=np.arange(11,20).reshape(3,3)\n",
    "n3"
   ]
  },
  {
   "cell_type": "code",
   "execution_count": 19,
   "id": "6fc5f4a9-3eab-4e9f-9233-3d5ed9301b77",
   "metadata": {},
   "outputs": [
    {
     "data": {
      "text/plain": [
       "19"
      ]
     },
     "execution_count": 19,
     "metadata": {},
     "output_type": "execute_result"
    }
   ],
   "source": [
    "n3[2,2]"
   ]
  },
  {
   "cell_type": "code",
   "execution_count": 21,
   "id": "9e1c62e0-0359-41c8-83af-0f8f574abb60",
   "metadata": {},
   "outputs": [
    {
     "data": {
      "text/plain": [
       "11"
      ]
     },
     "execution_count": 21,
     "metadata": {},
     "output_type": "execute_result"
    }
   ],
   "source": [
    "n3[0,0]"
   ]
  },
  {
   "cell_type": "code",
   "execution_count": 27,
   "id": "904015ef-2b59-402a-9218-329201318900",
   "metadata": {},
   "outputs": [
    {
     "data": {
      "text/plain": [
       "array([[14]])"
      ]
     },
     "execution_count": 27,
     "metadata": {},
     "output_type": "execute_result"
    }
   ],
   "source": [
    "#[start_row:end_row,start_column:end_column]\n",
    "n3[1:2,0:1]"
   ]
  },
  {
   "cell_type": "code",
   "execution_count": 33,
   "id": "8b550fdb-b44f-4fd8-9597-1c978def8f6a",
   "metadata": {},
   "outputs": [
    {
     "data": {
      "text/plain": [
       "array([[14, 15, 16],\n",
       "       [17, 18, 19]])"
      ]
     },
     "execution_count": 33,
     "metadata": {},
     "output_type": "execute_result"
    }
   ],
   "source": [
    "n3[1:,0:]"
   ]
  },
  {
   "cell_type": "code",
   "execution_count": 35,
   "id": "de3fecdf-4e29-4406-89e3-21ba2b377357",
   "metadata": {},
   "outputs": [],
   "source": [
    "np.save('my_nparray',n3)"
   ]
  },
  {
   "cell_type": "code",
   "execution_count": 37,
   "id": "3aae2666-9ed3-465a-9422-e94a99b0ac67",
   "metadata": {},
   "outputs": [
    {
     "data": {
      "text/plain": [
       "array([[11, 12, 13],\n",
       "       [14, 15, 16],\n",
       "       [17, 18, 19]])"
      ]
     },
     "execution_count": 37,
     "metadata": {},
     "output_type": "execute_result"
    }
   ],
   "source": [
    "np.load('my_nparray.npy')"
   ]
  }
 ],
 "metadata": {
  "kernelspec": {
   "display_name": "Python 3 (ipykernel)",
   "language": "python",
   "name": "python3"
  },
  "language_info": {
   "codemirror_mode": {
    "name": "ipython",
    "version": 3
   },
   "file_extension": ".py",
   "mimetype": "text/x-python",
   "name": "python",
   "nbconvert_exporter": "python",
   "pygments_lexer": "ipython3",
   "version": "3.12.4"
  }
 },
 "nbformat": 4,
 "nbformat_minor": 5
}
