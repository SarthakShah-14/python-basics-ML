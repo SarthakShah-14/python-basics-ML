{
 "cells": [
  {
   "cell_type": "code",
   "execution_count": 7,
   "id": "4f98ef98-9569-4474-b153-585f9a432815",
   "metadata": {},
   "outputs": [],
   "source": [
    "# this is comment"
   ]
  },
  {
   "cell_type": "code",
   "execution_count": 3,
   "id": "36646c04-19c3-4dd2-993e-ff8aae0507e8",
   "metadata": {},
   "outputs": [
    {
     "data": {
      "text/plain": [
       "8"
      ]
     },
     "execution_count": 3,
     "metadata": {},
     "output_type": "execute_result"
    }
   ],
   "source": [
    "5+3\n"
   ]
  },
  {
   "cell_type": "code",
   "execution_count": 23,
   "id": "7b983bb4-2f77-45e1-8f4f-21b19fd86588",
   "metadata": {},
   "outputs": [
    {
     "data": {
      "text/plain": [
       "int"
      ]
     },
     "execution_count": 23,
     "metadata": {},
     "output_type": "execute_result"
    }
   ],
   "source": [
    "a=5\n",
    "type(a)"
   ]
  },
  {
   "cell_type": "code",
   "execution_count": 29,
   "id": "b0a2fdb1-8774-4afe-941b-f4060661fa8e",
   "metadata": {},
   "outputs": [
    {
     "name": "stdout",
     "output_type": "stream",
     "text": [
      "0o5\n"
     ]
    }
   ],
   "source": [
    "print(oct(a))"
   ]
  },
  {
   "cell_type": "code",
   "execution_count": 42,
   "id": "6ad9106c-1070-4c9d-a54b-ef2cb4b0a1ef",
   "metadata": {},
   "outputs": [
    {
     "name": "stdin",
     "output_type": "stream",
     "text": [
      "Enter no 23\n"
     ]
    }
   ],
   "source": [
    "a=int(input(\"Enter no\"))"
   ]
  },
  {
   "cell_type": "code",
   "execution_count": null,
   "id": "a716e42b-7d40-432e-99d7-dcad04cd5692",
   "metadata": {},
   "outputs": [],
   "source": [
    "x=10\n",
    "y=10"
   ]
  },
  {
   "cell_type": "code",
   "execution_count": 72,
   "id": "77d8e22c-63d4-4fed-b2fe-c4dbfe1d2e3c",
   "metadata": {},
   "outputs": [
    {
     "name": "stdout",
     "output_type": "stream",
     "text": [
      "140714084416216\n"
     ]
    }
   ],
   "source": [
    "x=10\n",
    "y=10 \n",
    "print(id(x))"
   ]
  },
  {
   "cell_type": "code",
   "execution_count": 100,
   "id": "6408376a-2b4f-44f1-b51b-6afe5766cc64",
   "metadata": {},
   "outputs": [
    {
     "name": "stdout",
     "output_type": "stream",
     "text": [
      "This is string\n",
      "i\n",
      "s string\n"
     ]
    }
   ],
   "source": [
    "msg1=\"\"\"This is string\"\"\"\n",
    "print(msg1)\n",
    "print(msg1[2])\n",
    "print(msg1[-8:])"
   ]
  },
  {
   "cell_type": "code",
   "execution_count": 110,
   "id": "f43c232c-1fd0-4df4-aa6b-433ff5ce336e",
   "metadata": {},
   "outputs": [
    {
     "name": "stdout",
     "output_type": "stream",
     "text": [
      "THIS IS STRING\n"
     ]
    }
   ],
   "source": [
    "print(msg1.upper())"
   ]
  },
  {
   "cell_type": "code",
   "execution_count": 112,
   "id": "00ed9c8b-e66d-410c-a50a-bb281915444a",
   "metadata": {},
   "outputs": [
    {
     "name": "stdout",
     "output_type": "stream",
     "text": [
      "this is string\n"
     ]
    }
   ],
   "source": [
    "print(msg1.lower())"
   ]
  },
  {
   "cell_type": "code",
   "execution_count": 114,
   "id": "6d14bf55-91ff-401c-83f2-f457c2d230ae",
   "metadata": {},
   "outputs": [
    {
     "data": {
      "text/plain": [
       "14"
      ]
     },
     "execution_count": 114,
     "metadata": {},
     "output_type": "execute_result"
    }
   ],
   "source": [
    "len(msg1)"
   ]
  },
  {
   "cell_type": "code",
   "execution_count": 128,
   "id": "783de501-9811-445d-a0d1-c543309416ad",
   "metadata": {},
   "outputs": [
    {
     "data": {
      "text/plain": [
       "True"
      ]
     },
     "execution_count": 128,
     "metadata": {},
     "output_type": "execute_result"
    }
   ],
   "source": [
    "msg1.startswith('This is ')\n"
   ]
  },
  {
   "cell_type": "code",
   "execution_count": 132,
   "id": "5087bb93-6c0b-465a-8605-259e665f53c3",
   "metadata": {},
   "outputs": [
    {
     "data": {
      "text/plain": [
       "True"
      ]
     },
     "execution_count": 132,
     "metadata": {},
     "output_type": "execute_result"
    }
   ],
   "source": [
    "msg1.endswith('string')"
   ]
  }
 ],
 "metadata": {
  "kernelspec": {
   "display_name": "Python 3 (ipykernel)",
   "language": "python",
   "name": "python3"
  },
  "language_info": {
   "codemirror_mode": {
    "name": "ipython",
    "version": 3
   },
   "file_extension": ".py",
   "mimetype": "text/x-python",
   "name": "python",
   "nbconvert_exporter": "python",
   "pygments_lexer": "ipython3",
   "version": "3.12.4"
  }
 },
 "nbformat": 4,
 "nbformat_minor": 5
}
