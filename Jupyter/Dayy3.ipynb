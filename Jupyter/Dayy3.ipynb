{
 "cells": [
  {
   "cell_type": "code",
   "execution_count": 1,
   "id": "81cd3fb3-f41b-4099-ab97-10999d2a6ebc",
   "metadata": {},
   "outputs": [
    {
     "name": "stdout",
     "output_type": "stream",
     "text": [
      "true\n"
     ]
    }
   ],
   "source": [
    "n=5\n",
    "if(n==5):\n",
    "    print(\"true\")"
   ]
  },
  {
   "cell_type": "code",
   "execution_count": 9,
   "id": "3c85a8ae-25df-430e-813f-ff1909928bb0",
   "metadata": {},
   "outputs": [
    {
     "name": "stdout",
     "output_type": "stream",
     "text": [
      "n is positive\n"
     ]
    }
   ],
   "source": [
    "n=3\n",
    "if(n==0):\n",
    "    print(\"n is 0\")\n",
    "elif(n<0):\n",
    "    print(\"n is negative\")\n",
    "\n",
    "else:\n",
    "    print(\"n is positive\")"
   ]
  },
  {
   "cell_type": "code",
   "execution_count": 11,
   "id": "dbcaddcd-e056-4d9b-8e1b-a3c9dcd69965",
   "metadata": {},
   "outputs": [
    {
     "name": "stdin",
     "output_type": "stream",
     "text": [
      "Enter n 9\n"
     ]
    }
   ],
   "source": [
    "n=int(input(\"Enter n\"))\n",
    "if(n==0):print(\"n is 0\")"
   ]
  }
 ],
 "metadata": {
  "kernelspec": {
   "display_name": "Python 3 (ipykernel)",
   "language": "python",
   "name": "python3"
  },
  "language_info": {
   "codemirror_mode": {
    "name": "ipython",
    "version": 3
   },
   "file_extension": ".py",
   "mimetype": "text/x-python",
   "name": "python",
   "nbconvert_exporter": "python",
   "pygments_lexer": "ipython3",
   "version": "3.12.4"
  }
 },
 "nbformat": 4,
 "nbformat_minor": 5
}
